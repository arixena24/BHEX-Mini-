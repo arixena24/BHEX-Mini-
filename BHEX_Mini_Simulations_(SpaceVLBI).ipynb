{
 "cells": [
  {
   "cell_type": "code",
   "execution_count": 3,
   "metadata": {
    "colab": {
     "base_uri": "https://localhost:8080/"
    },
    "id": "_E-n14XPV3Sm",
    "outputId": "2e947fc8-f450-46d8-c407-e41864c32744"
   },
   "outputs": [
    {
     "name": "stdout",
     "output_type": "stream",
     "text": [
      "\u001b[31mERROR: Could not find a version that satisfies the requirement numpy==1.26.4 (from versions: 1.3.0, 1.4.1, 1.5.0, 1.5.1, 1.6.0, 1.6.1, 1.6.2, 1.7.0, 1.7.1, 1.7.2, 1.8.0, 1.8.1, 1.8.2, 1.9.0, 1.9.1, 1.9.2, 1.9.3, 1.10.0.post2, 1.10.1, 1.10.2, 1.10.4, 1.11.0, 1.11.1, 1.11.2, 1.11.3, 1.12.0, 1.12.1, 1.13.0, 1.13.1, 1.13.3, 1.14.0, 1.14.1, 1.14.2, 1.14.3, 1.14.4, 1.14.5, 1.14.6, 1.15.0, 1.15.1, 1.15.2, 1.15.3, 1.15.4, 1.16.0, 1.16.1, 1.16.2, 1.16.3, 1.16.4, 1.16.5, 1.16.6, 1.17.0, 1.17.1, 1.17.2, 1.17.3, 1.17.4, 1.17.5, 1.18.0, 1.18.1, 1.18.2, 1.18.3, 1.18.4, 1.18.5, 1.19.0, 1.19.1, 1.19.2, 1.19.3, 1.19.4, 1.19.5, 1.20.0, 1.20.1, 1.20.2, 1.20.3, 1.21.0, 1.21.1, 1.21.2, 1.21.3, 1.21.4, 1.21.5, 1.21.6, 1.22.0, 1.22.1, 1.22.2, 1.22.3, 1.22.4, 1.23.0, 1.23.1, 1.23.2, 1.23.3, 1.23.4, 1.23.5, 1.24.0, 1.24.1, 1.24.2, 1.24.3, 1.24.4)\u001b[0m\n",
      "\u001b[31mERROR: No matching distribution found for numpy==1.26.4\u001b[0m\n",
      "Note: you may need to restart the kernel to use updated packages.\n"
     ]
    }
   ],
   "source": [
    "pip install numpy==1.26.4"
   ]
  },
  {
   "cell_type": "code",
   "execution_count": 4,
   "metadata": {},
   "outputs": [
    {
     "name": "stdout",
     "output_type": "stream",
     "text": [
      "\u001b[31mERROR: Could not find a version that satisfies the requirement astropy==5.3.4 (from versions: 0.1, 0.2, 0.2.1, 0.2.2, 0.2.3, 0.2.4, 0.2.5, 0.3, 0.3.1, 0.3.2, 0.4rc1, 0.4rc2, 0.4, 0.4.1, 0.4.2, 0.4.3, 0.4.4, 0.4.5, 0.4.6, 1.0rc1, 1.0rc2, 1.0, 1.0.1, 1.0.2, 1.0.3, 1.0.4, 1.0.5, 1.0.6, 1.0.7, 1.0.8, 1.0.9, 1.0.10, 1.0.11, 1.0.12, 1.0.13, 1.1b1, 1.1rc1, 1.1rc2, 1.1, 1.1.post1, 1.1.post2, 1.1.1, 1.1.2, 1.2rc1, 1.2, 1.2.1, 1.2.2, 1.3rc1, 1.3, 1.3.1, 1.3.2, 1.3.3, 2.0rc1, 2.0, 2.0.1, 2.0.2, 2.0.3, 2.0.4, 2.0.5, 2.0.6, 2.0.7, 2.0.8, 2.0.9, 2.0.10, 2.0.11, 2.0.12, 2.0.13, 2.0.14, 2.0.15, 2.0.16, 3.0rc1, 3.0rc2, 3.0, 3.0.1, 3.0.2, 3.0.3, 3.0.4, 3.0.5, 3.1rc1, 3.1rc2, 3.1, 3.1.1, 3.1.2, 3.2rc1, 3.2rc2, 3.2, 3.2.1, 3.2.2, 3.2.3, 4.0rc1, 4.0rc2, 4.0, 4.0.1, 4.0.1.post1, 4.0.2, 4.0.3, 4.0.4, 4.0.5, 4.0.6.dev27461, 4.0.6, 4.1rc1, 4.1rc2, 4.1, 4.2rc1, 4.2, 4.2.1, 4.3rc1, 4.3, 4.3.post1, 4.3.1, 5.0rc1, 5.0rc2, 5.0, 5.0.1, 5.0.2, 5.0.3, 5.0.4, 5.0.5, 5.0.6, 5.0.7, 5.0.8, 5.1rc1, 5.1, 5.1.1, 5.2.dev0, 5.2rc1, 5.2, 5.2.1, 5.2.2)\u001b[0m\n",
      "\u001b[31mERROR: No matching distribution found for astropy==5.3.4\u001b[0m\n",
      "Note: you may need to restart the kernel to use updated packages.\n"
     ]
    }
   ],
   "source": [
    "pip install astropy==5.3.4"
   ]
  },
  {
   "cell_type": "code",
   "execution_count": 5,
   "metadata": {},
   "outputs": [
    {
     "name": "stdout",
     "output_type": "stream",
     "text": [
      "Collecting spacevlbi\n",
      "  Using cached spacevlbi-1.1.10-py3-none-any.whl (58 kB)\n",
      "\u001b[31mERROR: Could not find a version that satisfies the requirement matplotlib>=3.9.1 (from spacevlbi) (from versions: 0.86, 0.86.1, 0.86.2, 0.91.0, 0.91.1, 1.0.1, 1.1.0, 1.1.1, 1.2.0, 1.2.1, 1.3.0, 1.3.1, 1.4.0, 1.4.1rc1, 1.4.1, 1.4.2, 1.4.3, 1.5.0, 1.5.1, 1.5.2, 1.5.3, 2.0.0b1, 2.0.0b2, 2.0.0b3, 2.0.0b4, 2.0.0rc1, 2.0.0rc2, 2.0.0, 2.0.1, 2.0.2, 2.1.0rc1, 2.1.0, 2.1.1, 2.1.2, 2.2.0rc1, 2.2.0, 2.2.2, 2.2.3, 2.2.4, 2.2.5, 3.0.0rc2, 3.0.0, 3.0.1, 3.0.2, 3.0.3, 3.1.0rc1, 3.1.0rc2, 3.1.0, 3.1.1, 3.1.2, 3.1.3, 3.2.0rc1, 3.2.0rc3, 3.2.0, 3.2.1, 3.2.2, 3.3.0rc1, 3.3.0, 3.3.1, 3.3.2, 3.3.3, 3.3.4, 3.4.0rc1, 3.4.0rc2, 3.4.0rc3, 3.4.0, 3.4.1, 3.4.2, 3.4.3, 3.5.0b1, 3.5.0rc1, 3.5.0, 3.5.1, 3.5.2, 3.5.3, 3.6.0rc1, 3.6.0rc2, 3.6.0, 3.6.1, 3.6.2, 3.6.3, 3.7.0rc1, 3.7.0, 3.7.1, 3.7.2, 3.7.3, 3.7.4, 3.7.5)\u001b[0m\n",
      "\u001b[31mERROR: No matching distribution found for matplotlib>=3.9.1 (from spacevlbi)\u001b[0m\n",
      "Note: you may need to restart the kernel to use updated packages.\n"
     ]
    }
   ],
   "source": [
    "pip install spacevlbi"
   ]
  },
  {
   "cell_type": "code",
   "execution_count": 6,
   "metadata": {},
   "outputs": [
    {
     "name": "stdout",
     "output_type": "stream",
     "text": [
      "Collecting https://github.com/poliastro/poliastro/archive/main.zip\n",
      "  Using cached https://github.com/poliastro/poliastro/archive/main.zip\n",
      "  Installing build dependencies ... \u001b[?25ldone\n",
      "\u001b[?25h  Getting requirements to build wheel ... \u001b[?25ldone\n",
      "\u001b[?25h    Preparing wheel metadata ... \u001b[?25ldone\n",
      "\u001b[?25hRequirement already satisfied (use --upgrade to upgrade): poliastro==0.18.dev0 from https://github.com/poliastro/poliastro/archive/main.zip in /Users/marxena/opt/anaconda3/lib/python3.8/site-packages\n",
      "Requirement already satisfied: astropy<6,>=5.0 in /Users/marxena/opt/anaconda3/lib/python3.8/site-packages (from poliastro==0.18.dev0) (5.0.4)\n",
      "Requirement already satisfied: matplotlib!=3.0.1,>=2.0 in /Users/marxena/opt/anaconda3/lib/python3.8/site-packages (from poliastro==0.18.dev0) (3.6.2)\n",
      "Requirement already satisfied: astroquery>=0.3.9 in /Users/marxena/opt/anaconda3/lib/python3.8/site-packages (from poliastro==0.18.dev0) (0.4.6)\n",
      "Requirement already satisfied: pyerfa in /Users/marxena/opt/anaconda3/lib/python3.8/site-packages (from poliastro==0.18.dev0) (2.0.0.1)\n",
      "Requirement already satisfied: numba>=0.46; python_version < \"3.9\" in /Users/marxena/opt/anaconda3/lib/python3.8/site-packages (from poliastro==0.18.dev0) (0.51.2)\n",
      "Requirement already satisfied: scipy>=1.4.0 in /Users/marxena/opt/anaconda3/lib/python3.8/site-packages (from poliastro==0.18.dev0) (1.9.3)\n",
      "Requirement already satisfied: pandas in /Users/marxena/opt/anaconda3/lib/python3.8/site-packages (from poliastro==0.18.dev0) (2.0.3)\n",
      "Requirement already satisfied: numpy in /Users/marxena/opt/anaconda3/lib/python3.8/site-packages (from poliastro==0.18.dev0) (1.23.4)\n",
      "Requirement already satisfied: jplephem in /Users/marxena/opt/anaconda3/lib/python3.8/site-packages (from poliastro==0.18.dev0) (2.17)\n",
      "Requirement already satisfied: plotly<6,>=4.0 in /Users/marxena/opt/anaconda3/lib/python3.8/site-packages (from poliastro==0.18.dev0) (5.15.0)\n",
      "Requirement already satisfied: packaging>=19.0 in /Users/marxena/opt/anaconda3/lib/python3.8/site-packages (from astropy<6,>=5.0->poliastro==0.18.dev0) (20.4)\n",
      "Requirement already satisfied: PyYAML>=3.13 in /Users/marxena/opt/anaconda3/lib/python3.8/site-packages (from astropy<6,>=5.0->poliastro==0.18.dev0) (5.3.1)\n",
      "Requirement already satisfied: pyparsing>=2.2.1 in /Users/marxena/opt/anaconda3/lib/python3.8/site-packages (from matplotlib!=3.0.1,>=2.0->poliastro==0.18.dev0) (2.4.7)\n",
      "Requirement already satisfied: contourpy>=1.0.1 in /Users/marxena/opt/anaconda3/lib/python3.8/site-packages (from matplotlib!=3.0.1,>=2.0->poliastro==0.18.dev0) (1.0.6)\n",
      "Requirement already satisfied: cycler>=0.10 in /Users/marxena/opt/anaconda3/lib/python3.8/site-packages (from matplotlib!=3.0.1,>=2.0->poliastro==0.18.dev0) (0.10.0)\n",
      "Requirement already satisfied: python-dateutil>=2.7 in /Users/marxena/opt/anaconda3/lib/python3.8/site-packages (from matplotlib!=3.0.1,>=2.0->poliastro==0.18.dev0) (2.8.2)\n",
      "Requirement already satisfied: kiwisolver>=1.0.1 in /Users/marxena/opt/anaconda3/lib/python3.8/site-packages (from matplotlib!=3.0.1,>=2.0->poliastro==0.18.dev0) (1.3.0)\n",
      "Requirement already satisfied: pillow>=6.2.0 in /Users/marxena/opt/anaconda3/lib/python3.8/site-packages (from matplotlib!=3.0.1,>=2.0->poliastro==0.18.dev0) (8.0.1)\n",
      "Requirement already satisfied: fonttools>=4.22.0 in /Users/marxena/opt/anaconda3/lib/python3.8/site-packages (from matplotlib!=3.0.1,>=2.0->poliastro==0.18.dev0) (4.38.0)\n",
      "Requirement already satisfied: html5lib>=0.999 in /Users/marxena/opt/anaconda3/lib/python3.8/site-packages (from astroquery>=0.3.9->poliastro==0.18.dev0) (1.1)\n",
      "Requirement already satisfied: beautifulsoup4>=4.3.2 in /Users/marxena/opt/anaconda3/lib/python3.8/site-packages (from astroquery>=0.3.9->poliastro==0.18.dev0) (4.9.3)\n",
      "Requirement already satisfied: requests>=2.4.3 in /Users/marxena/opt/anaconda3/lib/python3.8/site-packages (from astroquery>=0.3.9->poliastro==0.18.dev0) (2.24.0)\n",
      "Requirement already satisfied: pyvo>=1.1 in /Users/marxena/opt/anaconda3/lib/python3.8/site-packages (from astroquery>=0.3.9->poliastro==0.18.dev0) (1.3)\n",
      "Requirement already satisfied: keyring>=4.0 in /Users/marxena/opt/anaconda3/lib/python3.8/site-packages (from astroquery>=0.3.9->poliastro==0.18.dev0) (21.4.0)\n",
      "Requirement already satisfied: llvmlite<0.35,>=0.34.0.dev0 in /Users/marxena/opt/anaconda3/lib/python3.8/site-packages (from numba>=0.46; python_version < \"3.9\"->poliastro==0.18.dev0) (0.34.0)\n",
      "Requirement already satisfied: setuptools in /Users/marxena/opt/anaconda3/lib/python3.8/site-packages (from numba>=0.46; python_version < \"3.9\"->poliastro==0.18.dev0) (50.3.1.post20201107)\n",
      "Requirement already satisfied: tzdata>=2022.1 in /Users/marxena/opt/anaconda3/lib/python3.8/site-packages (from pandas->poliastro==0.18.dev0) (2023.3)\n",
      "Requirement already satisfied: pytz>=2020.1 in /Users/marxena/opt/anaconda3/lib/python3.8/site-packages (from pandas->poliastro==0.18.dev0) (2020.1)\n",
      "Requirement already satisfied: tenacity>=6.2.0 in /Users/marxena/opt/anaconda3/lib/python3.8/site-packages (from plotly<6,>=4.0->poliastro==0.18.dev0) (8.2.2)\n",
      "Requirement already satisfied: six in /Users/marxena/opt/anaconda3/lib/python3.8/site-packages (from packaging>=19.0->astropy<6,>=5.0->poliastro==0.18.dev0) (1.15.0)\n",
      "Requirement already satisfied: webencodings in /Users/marxena/opt/anaconda3/lib/python3.8/site-packages (from html5lib>=0.999->astroquery>=0.3.9->poliastro==0.18.dev0) (0.5.1)\n",
      "Requirement already satisfied: soupsieve>1.2; python_version >= \"3.0\" in /Users/marxena/opt/anaconda3/lib/python3.8/site-packages (from beautifulsoup4>=4.3.2->astroquery>=0.3.9->poliastro==0.18.dev0) (2.0.1)\n",
      "Requirement already satisfied: urllib3!=1.25.0,!=1.25.1,<1.26,>=1.21.1 in /Users/marxena/opt/anaconda3/lib/python3.8/site-packages (from requests>=2.4.3->astroquery>=0.3.9->poliastro==0.18.dev0) (1.25.11)\n",
      "Requirement already satisfied: certifi>=2017.4.17 in /Users/marxena/opt/anaconda3/lib/python3.8/site-packages (from requests>=2.4.3->astroquery>=0.3.9->poliastro==0.18.dev0) (2020.6.20)\n",
      "Requirement already satisfied: chardet<4,>=3.0.2 in /Users/marxena/opt/anaconda3/lib/python3.8/site-packages (from requests>=2.4.3->astroquery>=0.3.9->poliastro==0.18.dev0) (3.0.4)\n",
      "Requirement already satisfied: idna<3,>=2.5 in /Users/marxena/opt/anaconda3/lib/python3.8/site-packages (from requests>=2.4.3->astroquery>=0.3.9->poliastro==0.18.dev0) (2.10)\n",
      "Building wheels for collected packages: poliastro\n",
      "  Building wheel for poliastro (PEP 517) ... \u001b[?25ldone\n",
      "\u001b[?25h  Created wheel for poliastro: filename=poliastro-0.18.dev0-py3-none-any.whl size=175009 sha256=a50971b5b5e84a2eff3fd06007ea48c9b2f1cd96dc12183a0102d55a3f780039\n",
      "  Stored in directory: /private/var/folders/nl/2bjd7jmd1p9gcvdvx8jdbb880000gp/T/pip-ephem-wheel-cache-o7ahrog9/wheels/69/2a/ea/adde3ab6d64f587bf1524f831d5680bebf3e16e632bdde7962\n",
      "Successfully built poliastro\n",
      "Note: you may need to restart the kernel to use updated packages.\n"
     ]
    }
   ],
   "source": [
    "pip install https://github.com/poliastro/poliastro/archive/main.zip"
   ]
  },
  {
   "cell_type": "code",
   "execution_count": 1,
   "metadata": {
    "colab": {
     "base_uri": "https://localhost:8080/",
     "height": 1000
    },
    "id": "y0jp1GFUX8Sz",
    "outputId": "6f48ecc2-e164-4032-8391-39b55190981a"
   },
   "outputs": [
    {
     "ename": "ModuleNotFoundError",
     "evalue": "No module named 'spacevlbi'",
     "output_type": "error",
     "traceback": [
      "\u001b[0;31m---------------------------------------------------------------------------\u001b[0m",
      "\u001b[0;31mModuleNotFoundError\u001b[0m                       Traceback (most recent call last)",
      "\u001b[0;32m<ipython-input-1-f0d58a31a62b>\u001b[0m in \u001b[0;36m<module>\u001b[0;34m\u001b[0m\n\u001b[1;32m     26\u001b[0m \u001b[0;31m# @author: BenHudson - 26/08/2025\u001b[0m\u001b[0;34m\u001b[0m\u001b[0;34m\u001b[0m\u001b[0;34m\u001b[0m\u001b[0m\n\u001b[1;32m     27\u001b[0m \u001b[0;34m\u001b[0m\u001b[0m\n\u001b[0;32m---> 28\u001b[0;31m \u001b[0;32mfrom\u001b[0m \u001b[0mspacevlbi\u001b[0m \u001b[0;32mimport\u001b[0m \u001b[0mStation\u001b[0m\u001b[0;34m\u001b[0m\u001b[0;34m\u001b[0m\u001b[0m\n\u001b[0m\u001b[1;32m     29\u001b[0m \u001b[0;32mfrom\u001b[0m \u001b[0mspacevlbi\u001b[0m\u001b[0;34m.\u001b[0m\u001b[0mTimeLoop\u001b[0m \u001b[0;32mimport\u001b[0m \u001b[0mTimeLoop\u001b[0m\u001b[0;34m\u001b[0m\u001b[0;34m\u001b[0m\u001b[0m\n\u001b[1;32m     30\u001b[0m \u001b[0;32mfrom\u001b[0m \u001b[0mspacevlbi\u001b[0m \u001b[0;32mimport\u001b[0m \u001b[0mFigures\u001b[0m\u001b[0;34m\u001b[0m\u001b[0;34m\u001b[0m\u001b[0m\n",
      "\u001b[0;31mModuleNotFoundError\u001b[0m: No module named 'spacevlbi'"
     ]
    }
   ],
   "source": [
    "\"\"\"\n",
    "Library for simulating space-based VLBI missions (spacevlbi)\n",
    "\n",
    "Copyright 2024 Ben Hudson\n",
    "\n",
    "Licensed under the GNU General Public License, Version 3.0 (the \"License\");\n",
    "you may not use this file except in compliance with the License.\n",
    "You may obtain a copy of the License at\n",
    "\n",
    "    https://www.gnu.org/licenses/gpl-3.0.en.html\n",
    "\n",
    "Unless required by applicable law or agreed to in writing, software\n",
    "distributed under the License is distributed on an \"AS IS\" BASIS,\n",
    "WITHOUT WARRANTIES OR CONDITIONS OF ANY KIND, either express or implied.\n",
    "See the License for the specific language governing permissions and\n",
    "limitations under the License.\n",
    "\"\"\"\n",
    "\n",
    "# ExampleSetup.py\n",
    "#\n",
    "# An example implementation of the spacevlbi package to demonstrate how the\n",
    "# functions can be executed to perform simulation of a space-based VLBI mission.\n",
    "# The example given is a simplified representation of the Black Hole Explorer\n",
    "# (BHEX) mission - https://www.blackholeexplorer.org/\n",
    "\n",
    "# @author: BenHudson - 26/08/2025\n",
    "\n",
    "from spacevlbi import Station\n",
    "from spacevlbi.TimeLoop import TimeLoop\n",
    "from spacevlbi import Figures\n",
    "from spacevlbi.Optimisation import Optimisation\n",
    "import numpy as np\n",
    "from poliastro.util import Time\n",
    "from ExampleSpaceTelescope import BaselineBHEX\n",
    "import matplotlib\n",
    "\n",
    "# Plot configurations\n",
    "matplotlib.rcParams['mathtext.fontset'] = 'stix'\n",
    "matplotlib.rcParams['font.family'] = 'STIXGeneral'\n",
    "matplotlib.rcParams.update({'font.size': 20})\n",
    "\n",
    "###############################################################################\n",
    "# Simulation Time Definition\n",
    "###############################################################################\n",
    "\n",
    "initTime = Time(\"2025-01-01 00:00\", scale=\"utc\")  # start time of simulation\n",
    "timeStep = 100  # simulation time step, sec\n",
    "simLength = 1800  # length of simulation, sec\n",
    "\n",
    "###############################################################################\n",
    "# Observation Parameters\n",
    "###############################################################################\n",
    "\n",
    "obsFreq = [86e9, 320e9]  # frequencies observations will be conducted at, Hz\n",
    "# Calculate (u,v) coverage for full celestial sphere? NOTE. Functional\n",
    "# constraints cannot be modelled in all-sky mode.\n",
    "allsky = 0\n",
    "\n",
    "# M87*\n",
    "sourceRa = 187.705930  # target source right ascension, deg\n",
    "sourceDec = 12.391123  # target source declination, deg\n",
    "\n",
    "# Sgr A*\n",
    "#sourceRa = 266.25  # target source right ascension, deg\n",
    "#sourceDec = -29.0078 # target source declination, deg\n",
    "\n",
    "intTime = 10  # integration time, sec\n",
    "dutyCycle = 0  # time between the start of one scan and the next, sec\n",
    "bandwidth = 8e9  # bandwidth of observations, Hz\n",
    "\n",
    "###############################################################################\n",
    "# Ground Telescope Definition\n",
    "###############################################################################\n",
    "\n",
    "# See GroundTelescope class for definition of input parameters\n",
    "elev = 15\n",
    "ALMA = Station.GroundTelescope(\"ALMA\", 73, 0.68, 76, \\\n",
    "                np.array([-23.02920517, -67.75475214, 5.07441706]), elev, initTime)\n",
    "IRAM = Station.GroundTelescope(\"IRAM\", 30, 0.47, 226, \\\n",
    "                np.array([37.06613845, -3.39260427, 2.92014542]), elev, initTime)\n",
    "APEX = Station.GroundTelescope(\"APEX\", 12, 0.61, 118, \\\n",
    "                np.array([-23.00577926, -67.75914002, 5.10474176]), elev, initTime)\n",
    "JCMT = Station.GroundTelescope(\"JCMT\", 15, 0.52, 345, \\\n",
    "                np.array([  19.82283802, -155.47702794, 4.12030997]), elev, initTime)\n",
    "LMT = Station.GroundTelescope(\"LMT\", 32.5, 0.28, 371, \\\n",
    "                np.array([ 18.98577444, -97.31477955, 4.59354009]), elev, initTime)\n",
    "SMA = Station.GroundTelescope(\"SMA\", 14.7, 0.75, 285, \\\n",
    "                np.array([  19.82422848, -155.47754761, 4.11529924]), elev, initTime)\n",
    "SMT = Station.GroundTelescope(\"SMT\", 10, 0.60, 291, \\\n",
    "                np.array([  32.70161115, -109.89124471, 3.15926115]), elev, initTime)\n",
    "SPT = Station.GroundTelescope(\"SPT\", 6, 0.60, 118, \\\n",
    "                np.array([-90,0,0]), elev, initTime)\n",
    "NOEMA = Station.GroundTelescope(\"NOEMA\", 52,   0.50, 270,\\\n",
    "                np.array([44.63495268,  5.90666814, 2.7590566 ]), elev, initTime)\n",
    "HAY = Station.GroundTelescope(\"HAY\", 52, 0.50, 270, \\\n",
    "                np.array([ 42.62394744, -71.48877143, 0.11466984]), elev, initTime)\n",
    "PV = Station.GroundTelescope(\"PV\", 15, 0.47, 226, \\\n",
    "                np.array([37.06613701, -3.39260427, 2.92002487]), elev, initTime)\n",
    "\n",
    "###############################################################################\n",
    "# Spacecraft Definition\n",
    "###############################################################################\n",
    "\n",
    "# See ExampleSpaceTelescope.py script for spacecraft definition and the\n",
    "# SpaceTelescope class for definition of input parameters\n",
    "sc1 = BaselineBHEX(initTime)\n",
    "\n",
    "###############################################################################\n",
    "# Ground Station Definition\n",
    "###############################################################################\n",
    "\n",
    "# See GroundStation class for definition of input parameters\n",
    "Haleakala = Station.GroundStation(\"Haleakala\", \\\n",
    "                np.array([20.42,-156.15,3.052]), 20, initTime);\n",
    "Lasilla = Station.GroundStation(\"La Silla\", \\\n",
    "                np.array([-29.15,-70.44,2.4]), 20, initTime);\n",
    "Achaea = Station.GroundStation(\"Achaea\", \\\n",
    "                np.array([37.48, 22.42, 0]), 20, initTime);\n",
    "Perth = Station.GroundStation(\"Perth\", \\\n",
    "                np.array([-31.57, 115.51, 0]), 20, initTime);\n",
    "\n",
    "###############################################################################\n",
    "# Initialise Station Arrays\n",
    "###############################################################################\n",
    "\n",
    "spaceTelescopes = [sc1]\n",
    "groundTelescopes = [ALMA, LMT, SMA, APEX, JCMT, SPT, SMT, NOEMA, HAY, IRAM]\n",
    "groundStations = [Haleakala, Lasilla, Achaea, Perth]\n",
    "\n",
    "###############################################################################\n",
    "# Simulation\n",
    "###############################################################################\n",
    "\n",
    "# Execute time loop (i.e. run simulation)\n",
    "spaceTelescopes, groundTelescopes, groundStations, simTime = TimeLoop(initTime, \\\n",
    "                simLength, timeStep, spaceTelescopes, groundTelescopes, \\\n",
    "                groundStations, obsFreq, sourceRa, sourceDec, dutyCycle, \\\n",
    "                intTime, allsky)\n",
    "\n",
    "###############################################################################\n",
    "# Plot Figures\n",
    "###############################################################################\n",
    "\n",
    "# Plot space telescope orbits\n",
    "Figures.OrbitPlot(spaceTelescopes)\n",
    "\n",
    "# Plot (u,v) coverage\n",
    "Figures.UvPlot(spaceTelescopes, groundTelescopes, allsky, obsFreq, 1)\n",
    "\n",
    "# Plot attitude sphere (user can control which elements (e.g. Earth, Sun, Moon,\n",
    "# antenna, etc.) are included in plot with additional arguments)\n",
    "Figures.AttitudeSphere(spaceTelescopes, 0, 120, 30)\n",
    "\n",
    "# Plot incidence angle of Sun on solar panels\n",
    "Figures.SolarPanelIncidence(spaceTelescopes, simTime, 0)\n",
    "\n",
    "# Plot elevation of space telescope from ground station\n",
    "Figures.GroundStationElevation(spaceTelescopes, groundStations, simTime, 0)\n",
    "\n",
    "# Plot Earth map with space telescope ground track and ground station visibility\n",
    "Figures.ElevationEarthMap(spaceTelescopes, groundStations, 0)\n",
    "\n",
    "###############################################################################\n",
    "# Optimisation\n",
    "###############################################################################\n",
    "\n",
    "# Run Optimisation function to determine optimal position for a star tracker\n",
    "# with a Sun and Earth minimum exclusion angle of 30 degrees.\n",
    "results = Optimisation(spaceTelescopes, 0, 30, 30, 0)"
   ]
  },
  {
   "cell_type": "code",
   "execution_count": null,
   "metadata": {},
   "outputs": [],
   "source": []
  }
 ],
 "metadata": {
  "colab": {
   "provenance": []
  },
  "kernelspec": {
   "display_name": "Python 3",
   "language": "python",
   "name": "python3"
  },
  "language_info": {
   "codemirror_mode": {
    "name": "ipython",
    "version": 3
   },
   "file_extension": ".py",
   "mimetype": "text/x-python",
   "name": "python",
   "nbconvert_exporter": "python",
   "pygments_lexer": "ipython3",
   "version": "3.8.5"
  }
 },
 "nbformat": 4,
 "nbformat_minor": 4
}
